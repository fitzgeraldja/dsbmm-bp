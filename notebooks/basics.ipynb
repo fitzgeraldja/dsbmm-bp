{
 "cells": [
  {
   "cell_type": "code",
   "execution_count": 1,
   "metadata": {},
   "outputs": [],
   "source": [
    "%load_ext autoreload\n",
    "%autoreload 2"
   ]
  },
  {
   "cell_type": "code",
   "execution_count": 2,
   "metadata": {},
   "outputs": [],
   "source": [
    "import numpy as np\n",
    "import dsbmm_bp.simulation as dsbmm_sim\n"
   ]
  },
  {
   "cell_type": "code",
   "execution_count": 34,
   "metadata": {},
   "outputs": [],
   "source": [
    "Q = 4\n",
    "T = 5\n",
    "N = 100\n",
    "Z_1 = np.random.randint(0, Q, size=(N,))\n",
    "meta_types = [\"poisson\", \"indep bernoulli\"]\n",
    "L = 5\n",
    "meta_params = [np.random.randint(5, 15, size=(1, Q, T)), np.random.rand(L, Q, T)]\n",
    "\n",
    "dsbmm_dict = dsbmm_sim.sample_dynsbm_meta(\n",
    "    Z_1=Z_1, Q=Q, T=T, meta_types=meta_types, meta_dims=[1, L], meta_params=meta_params\n",
    ")\n",
    "\n"
   ]
  },
  {
   "cell_type": "code",
   "execution_count": 42,
   "metadata": {},
   "outputs": [
    {
     "data": {
      "text/plain": [
       "(4, 2, 3)"
      ]
     },
     "execution_count": 42,
     "metadata": {},
     "output_type": "execute_result"
    }
   ],
   "source": [
    "# np.ones((4,2,3))/np.tile(2*np.ones((4,2))[:,:,np.newaxis],(1,1,3))\n",
    "(np.ones((4,2,3))/2*np.ones((4,2))[:,:,np.newaxis]).shape"
   ]
  },
  {
   "cell_type": "code",
   "execution_count": 35,
   "metadata": {},
   "outputs": [],
   "source": [
    "test_tp = np.ones((N, N, T, Q, Q))\n",
    "\n"
   ]
  },
  {
   "cell_type": "code",
   "execution_count": 36,
   "metadata": {},
   "outputs": [
    {
     "data": {
      "text/plain": [
       "(5, 4, 4)"
      ]
     },
     "execution_count": 36,
     "metadata": {},
     "output_type": "execute_result"
    }
   ],
   "source": [
    "np.einsum(\"ijtqr,ijt->tqr\", test_tp, (dsbmm_dict[\"A\"] > 0)).shape\n",
    "\n"
   ]
  },
  {
   "cell_type": "code",
   "execution_count": 18,
   "metadata": {},
   "outputs": [],
   "source": [
    "test_tp = np.arange(5 * 5 * 3 * 2 * 2).reshape(5, 5, 3, 2, 2)\n",
    "\n"
   ]
  },
  {
   "cell_type": "code",
   "execution_count": 21,
   "metadata": {},
   "outputs": [
    {
     "data": {
      "text/plain": [
       "array([[[0., 1.],\n",
       "        [2., 3.]],\n",
       "\n",
       "       [[0., 0.],\n",
       "        [0., 0.]],\n",
       "\n",
       "       [[0., 0.],\n",
       "        [0., 0.]]])"
      ]
     },
     "execution_count": 21,
     "metadata": {},
     "output_type": "execute_result"
    }
   ],
   "source": [
    "test_A = np.zeros((5, 5, 3))\n",
    "test_A[0, 0, 0] = 1\n",
    "np.einsum(\"ijtqr,ijt->tqr\", test_tp, test_A)\n",
    "\n"
   ]
  },
  {
   "cell_type": "code",
   "execution_count": 31,
   "metadata": {},
   "outputs": [
    {
     "data": {
      "text/plain": [
       "array([[0., 0.],\n",
       "       [1., 0.],\n",
       "       [2., 0.]])"
      ]
     },
     "execution_count": 31,
     "metadata": {},
     "output_type": "execute_result"
    }
   ],
   "source": [
    "test_degs = np.arange(5 * 3).reshape(5, 3)\n",
    "test_marg = np.zeros((5, 3, 2))\n",
    "test_marg[0, :, 0] = 1\n",
    "tmp = np.einsum(\"itq,it->tq\", test_marg, test_degs)\n",
    "tmp\n"
   ]
  },
  {
   "cell_type": "code",
   "execution_count": 33,
   "metadata": {},
   "outputs": [
    {
     "data": {
      "text/plain": [
       "array([[[0., 0.],\n",
       "        [0., 0.]],\n",
       "\n",
       "       [[1., 0.],\n",
       "        [0., 0.]],\n",
       "\n",
       "       [[4., 0.],\n",
       "        [0., 0.]]])"
      ]
     },
     "execution_count": 33,
     "metadata": {},
     "output_type": "execute_result"
    }
   ],
   "source": [
    "np.einsum(\"tq,tr->tqr\", tmp, tmp)\n",
    "\n"
   ]
  },
  {
   "cell_type": "code",
   "execution_count": null,
   "metadata": {},
   "outputs": [],
   "source": []
  }
 ],
 "metadata": {
  "interpreter": {
   "hash": "d5c34d7b47ead285695163c52e692a1341346d297aa62a7d0d09c9a348795615"
  },
  "kernelspec": {
   "display_name": "Python 3.10.2 ('dsbmm')",
   "language": "python",
   "name": "python3"
  },
  "language_info": {
   "codemirror_mode": {
    "name": "ipython",
    "version": 3
   },
   "file_extension": ".py",
   "mimetype": "text/x-python",
   "name": "python",
   "nbconvert_exporter": "python",
   "pygments_lexer": "ipython3",
   "version": "3.9.7"
  },
  "orig_nbformat": 4
 },
 "nbformat": 4,
 "nbformat_minor": 2
}
