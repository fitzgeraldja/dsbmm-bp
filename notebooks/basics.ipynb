{
 "cells": [
  {
   "cell_type": "code",
   "execution_count": 1,
   "metadata": {},
   "outputs": [],
   "source": [
    "%load_ext autoreload\n",
    "%autoreload 2"
   ]
  },
  {
   "cell_type": "code",
   "execution_count": 2,
   "metadata": {},
   "outputs": [],
   "source": [
    "import numpy as np\n",
    "import dsbmm_bp.simulation as dsbmm_sim"
   ]
  },
  {
   "cell_type": "code",
   "execution_count": 5,
   "metadata": {},
   "outputs": [],
   "source": [
    "Q = 4\n",
    "T = 5\n",
    "Z_1 = np.random.randint(0,Q,size=(100,))\n",
    "meta_types = [\"poisson\",\"indep bernoulli\"]\n",
    "L = 5\n",
    "meta_params = [np.random.randint(5,15,size=(1,Q,T)),np.random.rand(L,Q,T)]\n",
    "\n",
    "dsbmm_dict = dsbmm_sim.sample_dynsbm_meta(Z_1=Z_1,Q=Q,T=T,\n",
    "                             meta_types=meta_types,\n",
    "                             meta_dims=[1,L],\n",
    "                             meta_params=meta_params)"
   ]
  },
  {
   "cell_type": "code",
   "execution_count": null,
   "metadata": {},
   "outputs": [],
   "source": []
  }
 ],
 "metadata": {
  "interpreter": {
   "hash": "d5c34d7b47ead285695163c52e692a1341346d297aa62a7d0d09c9a348795615"
  },
  "kernelspec": {
   "display_name": "Python 3.10.2 ('dsbmm')",
   "language": "python",
   "name": "python3"
  },
  "language_info": {
   "codemirror_mode": {
    "name": "ipython",
    "version": 3
   },
   "file_extension": ".py",
   "mimetype": "text/x-python",
   "name": "python",
   "nbconvert_exporter": "python",
   "pygments_lexer": "ipython3",
   "version": "3.9.7"
  },
  "orig_nbformat": 4
 },
 "nbformat": 4,
 "nbformat_minor": 2
}
