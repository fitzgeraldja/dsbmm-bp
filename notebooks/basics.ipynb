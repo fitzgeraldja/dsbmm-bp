{
 "cells": [
  {
   "cell_type": "code",
   "execution_count": 1,
   "metadata": {},
   "outputs": [],
   "source": [
    "%load_ext autoreload\n",
    "%autoreload 2"
   ]
  },
  {
   "cell_type": "code",
   "execution_count": 2,
   "metadata": {},
   "outputs": [],
   "source": [
    "import numpy as np\n",
    "import dsbmm_bp.simulation as dsbmm_sim\n"
   ]
  },
  {
   "cell_type": "code",
   "execution_count": 94,
   "metadata": {},
   "outputs": [],
   "source": [
    "Q = 4\n",
    "T = 5\n",
    "N = 100\n",
    "Z_1 = np.random.randint(0, Q, size=(N,))\n",
    "meta_types = [\"poisson\", \"indep bernoulli\"]\n",
    "L = 5\n",
    "meta_params = [np.random.randint(5, 15, size=(1, Q, T)), np.random.rand(L, Q, T)]\n",
    "\n",
    "dsbmm_dict = dsbmm_sim.sample_dynsbm_meta(\n",
    "    Z_1=Z_1, Q=Q, T=T, meta_types=meta_types, meta_dims=[1, L], meta_params=meta_params\n",
    ")\n",
    "\n"
   ]
  },
  {
   "cell_type": "code",
   "execution_count": 105,
   "metadata": {},
   "outputs": [],
   "source": [
    "A = dsbmm_dict['A']"
   ]
  },
  {
   "cell_type": "code",
   "execution_count": 109,
   "metadata": {},
   "outputs": [
    {
     "data": {
      "text/plain": [
       "array([1934, 1633, 1576, 1493, 1385])"
      ]
     },
     "execution_count": 109,
     "metadata": {},
     "output_type": "execute_result"
    }
   ],
   "source": [
    "np.array(list(map(np.count_nonzero, A.transpose(2, 0, 1))))"
   ]
  },
  {
   "cell_type": "code",
   "execution_count": 113,
   "metadata": {},
   "outputs": [],
   "source": [
    "from numba import typeof,float32\n",
    "from numba.typed import List \n",
    "from numba.types import ListType\n",
    "typeof([[np.array([1,2])]])\n",
    "tmp = List.empty_list(ListType(float32[:]))"
   ]
  },
  {
   "cell_type": "code",
   "execution_count": 122,
   "metadata": {},
   "outputs": [
    {
     "data": {
      "text/plain": [
       "(40, 40)"
      ]
     },
     "execution_count": 122,
     "metadata": {},
     "output_type": "execute_result"
    }
   ],
   "source": [
    "a = np.ones((10,4))\n",
    "b = np.ones((10,4))\n",
    "np.outer(a,b).shape"
   ]
  },
  {
   "cell_type": "code",
   "execution_count": 11,
   "metadata": {},
   "outputs": [
    {
     "data": {
      "text/plain": [
       "array([1., 1., 1.])"
      ]
     },
     "execution_count": 11,
     "metadata": {},
     "output_type": "execute_result"
    }
   ],
   "source": [
    "test = np.random.rand(5,4,3,3,2)\n",
    "test /= test.sum(axis=3)[:,:,:,np.newaxis,:]\n",
    "test.sum(axis=3)[0,0,:,0]"
   ]
  },
  {
   "cell_type": "code",
   "execution_count": 8,
   "metadata": {},
   "outputs": [
    {
     "data": {
      "text/plain": [
       "array([1., 1., 1., 1., 1.])"
      ]
     },
     "execution_count": 8,
     "metadata": {},
     "output_type": "execute_result"
    }
   ],
   "source": [
    "test = np.random.rand(5,4)\n",
    "test /= test.sum(axis=1)[:,np.newaxis]\n",
    "test.sum(axis=1)"
   ]
  },
  {
   "cell_type": "code",
   "execution_count": 22,
   "metadata": {},
   "outputs": [
    {
     "data": {
      "text/plain": [
       "True"
      ]
     },
     "execution_count": 22,
     "metadata": {},
     "output_type": "execute_result"
    }
   ],
   "source": [
    "from numba import njit  \n",
    "\n",
    "test_marg = np.random.rand(10,5,4)\n",
    "test_beta = np.random.rand(4,4,5)\n",
    "np.allclose((test_beta.transpose(1,0,2) * test_marg.sum(axis=0).T).sum(axis=1),np.einsum(\"itr,rqt->qt\", test_marg, test_beta))\n",
    "# test = np.random.rand(10,10,3) > 0.2\n",
    "# @njit\n",
    "# def test_fun(test):\n",
    "#     def get_neighbours(A):\n",
    "#         edge_locs = np.array(list(zip(*A.nonzero())))\n",
    "#         return edge_locs\n",
    "#     edge_locs = get_neighbours(test)\n",
    "#     for i,j,t in edge_locs:\n",
    "#         print(i,j,t) \n",
    "# test_fun(test)"
   ]
  },
  {
   "cell_type": "code",
   "execution_count": null,
   "metadata": {},
   "outputs": [],
   "source": []
  }
 ],
 "metadata": {
  "interpreter": {
   "hash": "d5c34d7b47ead285695163c52e692a1341346d297aa62a7d0d09c9a348795615"
  },
  "kernelspec": {
   "display_name": "Python 3.10.2 ('dsbmm')",
   "language": "python",
   "name": "python3"
  },
  "language_info": {
   "codemirror_mode": {
    "name": "ipython",
    "version": 3
   },
   "file_extension": ".py",
   "mimetype": "text/x-python",
   "name": "python",
   "nbconvert_exporter": "python",
   "pygments_lexer": "ipython3",
   "version": "3.9.7"
  },
  "orig_nbformat": 4
 },
 "nbformat": 4,
 "nbformat_minor": 2
}
