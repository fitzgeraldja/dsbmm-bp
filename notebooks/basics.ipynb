{
 "cells": [
  {
   "cell_type": "code",
   "execution_count": 1,
   "metadata": {},
   "outputs": [],
   "source": [
    "%load_ext autoreload\n",
    "%autoreload 2"
   ]
  },
  {
   "cell_type": "code",
   "execution_count": 2,
   "metadata": {},
   "outputs": [],
   "source": [
    "import numpy as np\n",
    "import dsbmm_bp.simulation as dsbmm_sim\n"
   ]
  },
  {
   "cell_type": "code",
   "execution_count": 94,
   "metadata": {},
   "outputs": [],
   "source": [
    "Q = 4\n",
    "T = 5\n",
    "N = 100\n",
    "Z_1 = np.random.randint(0, Q, size=(N,))\n",
    "meta_types = [\"poisson\", \"indep bernoulli\"]\n",
    "L = 5\n",
    "meta_params = [np.random.randint(5, 15, size=(1, Q, T)), np.random.rand(L, Q, T)]\n",
    "\n",
    "dsbmm_dict = dsbmm_sim.sample_dynsbm_meta(\n",
    "    Z_1=Z_1, Q=Q, T=T, meta_types=meta_types, meta_dims=[1, L], meta_params=meta_params\n",
    ")\n",
    "\n"
   ]
  },
  {
   "cell_type": "code",
   "execution_count": 105,
   "metadata": {},
   "outputs": [],
   "source": [
    "A = dsbmm_dict['A']"
   ]
  },
  {
   "cell_type": "code",
   "execution_count": 109,
   "metadata": {},
   "outputs": [
    {
     "data": {
      "text/plain": [
       "array([1934, 1633, 1576, 1493, 1385])"
      ]
     },
     "execution_count": 109,
     "metadata": {},
     "output_type": "execute_result"
    }
   ],
   "source": [
    "np.array(list(map(np.count_nonzero, A.transpose(2, 0, 1))))"
   ]
  },
  {
   "cell_type": "code",
   "execution_count": 113,
   "metadata": {},
   "outputs": [],
   "source": [
    "from numba import typeof,float32\n",
    "from numba.typed import List \n",
    "from numba.types import ListType\n",
    "typeof([[np.array([1,2])]])\n",
    "tmp = List.empty_list(ListType(float32[:]))"
   ]
  },
  {
   "cell_type": "code",
   "execution_count": 122,
   "metadata": {},
   "outputs": [
    {
     "data": {
      "text/plain": [
       "(40, 40)"
      ]
     },
     "execution_count": 122,
     "metadata": {},
     "output_type": "execute_result"
    }
   ],
   "source": [
    "a = np.ones((10,4))\n",
    "b = np.ones((10,4))\n",
    "np.outer(a,b).shape"
   ]
  },
  {
   "cell_type": "code",
   "execution_count": 11,
   "metadata": {},
   "outputs": [
    {
     "data": {
      "text/plain": [
       "array([1., 1., 1.])"
      ]
     },
     "execution_count": 11,
     "metadata": {},
     "output_type": "execute_result"
    }
   ],
   "source": [
    "test = np.random.rand(5,4,3,3,2)\n",
    "test /= test.sum(axis=3)[:,:,:,np.newaxis,:]\n",
    "test.sum(axis=3)[0,0,:,0]"
   ]
  },
  {
   "cell_type": "code",
   "execution_count": 8,
   "metadata": {},
   "outputs": [
    {
     "data": {
      "text/plain": [
       "array([1., 1., 1., 1., 1.])"
      ]
     },
     "execution_count": 8,
     "metadata": {},
     "output_type": "execute_result"
    }
   ],
   "source": [
    "test = np.random.rand(5,4)\n",
    "test /= test.sum(axis=1)[:,np.newaxis]\n",
    "test.sum(axis=1)"
   ]
  },
  {
   "cell_type": "code",
   "execution_count": 43,
   "metadata": {},
   "outputs": [
    {
     "data": {
      "text/plain": [
       "True"
      ]
     },
     "execution_count": 43,
     "metadata": {},
     "output_type": "execute_result"
    }
   ],
   "source": [
    "import numpy as np\n",
    "from numba import njit  \n",
    "\n",
    "test_marg = np.random.rand(10,5,4)\n",
    "test_beta = np.random.rand(4,4,5)\n",
    "np.allclose((test_beta.transpose(1,0,2) * test_marg.sum(axis=0).T).sum(axis=1),np.einsum(\"itr,rqt->qt\", test_marg, test_beta))\n",
    "# test = np.random.rand(10,10,3) > 0.2\n",
    "# @njit\n",
    "# def test_fun(test):\n",
    "#     def get_neighbours(A):\n",
    "#         edge_locs = np.array(list(zip(*A.nonzero())))\n",
    "#         return edge_locs\n",
    "#     edge_locs = get_neighbours(test)\n",
    "#     for i,j,t in edge_locs:\n",
    "#         print(i,j,t) \n",
    "# test_fun(test)"
   ]
  },
  {
   "cell_type": "code",
   "execution_count": 44,
   "metadata": {},
   "outputs": [
    {
     "name": "stderr",
     "output_type": "stream",
     "text": [
      "/Users/johnf/anaconda3/envs/dsbmm/lib/python3.9/site-packages/numba/core/typed_passes.py:329: NumbaPerformanceWarning: \n",
      "The keyword argument 'parallel=True' was specified but no transformation for parallel execution was possible.\n",
      "\n",
      "To find out why, try turning on parallel diagnostics, see https://numba.readthedocs.io/en/stable/user/parallel.html#diagnostics for help.\n",
      "\n",
      "File \"../../../../../../../../../var/folders/fc/4tmtzm3n327_sp7y205dwl4h0000gn/T/ipykernel_54886/3202994254.py\", line 62:\n",
      "<source missing, REPL/exec in use?>\n",
      "\n",
      "  warnings.warn(errors.NumbaPerformanceWarning(msg,\n"
     ]
    },
    {
     "name": "stdout",
     "output_type": "stream",
     "text": [
      "119.99999999999976\n",
      "-3.2745662778118136\n",
      "0.03783327480207086\n",
      "0.0007414307759019308\n",
      "0.03783327480207086\n"
     ]
    }
   ],
   "source": [
    "@njit(cache=True)\n",
    "def nb_ib_lkl(xs, ps):\n",
    "    \"\"\"Calculate IB lkl of observing xs given probs ps\n",
    "\n",
    "    Args:\n",
    "        xs (_type_): _description_\n",
    "        ps (_type_): _description_\n",
    "\n",
    "    Returns:\n",
    "        _type_: _description_\n",
    "    \"\"\"\n",
    "    # assume L dim vecs passed for each\n",
    "    return np.prod(np.power(ps, xs)) * np.prod(np.power(1 - ps, 1 - xs))\n",
    "\n",
    "from numba.experimental import jitclass \n",
    "\n",
    "from numba import prange\n",
    "@njit(fastmath=True, error_model=\"numpy\", parallel=True)\n",
    "def gammaln_nb_p_vec(z):\n",
    "    # \"\"\"Numerical Recipes 6.1\n",
    "    # Code from https://stackoverflow.com/questions/55048299/why-is-this-log-gamma-numba-function-slower-than-scipy-for-large-arrays-but-fas\"\"\"\n",
    "    # Don't use global variables.. (They only can be changed if you recompile the function)\n",
    "    print(1)\n",
    "    coefs = np.array(\n",
    "        [\n",
    "            57.1562356658629235,\n",
    "            -59.5979603554754912,\n",
    "            14.1360979747417471,\n",
    "            -0.491913816097620199,\n",
    "            0.339946499848118887e-4,\n",
    "            0.465236289270485756e-4,\n",
    "            -0.983744753048795646e-4,\n",
    "            0.158088703224912494e-3,\n",
    "            -0.210264441724104883e-3,\n",
    "            0.217439618115212643e-3,\n",
    "            -0.164318106536763890e-3,\n",
    "            0.844182239838527433e-4,\n",
    "            -0.261908384015814087e-4,\n",
    "            0.368991826595316234e-5,\n",
    "        ]\n",
    "    )\n",
    "    print(2)\n",
    "    \n",
    "    out = np.empty(z.shape[0])\n",
    "    for i in prange(z.shape[0]):\n",
    "        y = z[i]\n",
    "        tmp = z[i] + 5.24218750000000000\n",
    "        tmp = (z[i] + 0.5) * np.log(tmp) - tmp\n",
    "        ser = 0.999999999999997092\n",
    "\n",
    "        n = coefs.shape[0]\n",
    "        for j in range(n):\n",
    "            y = y + 1.0\n",
    "            ser = ser + coefs[j] / y\n",
    "\n",
    "        out[i] = tmp + np.log(2.5066282746310005 * ser / z[i])\n",
    "    \n",
    "    \n",
    "    print(3)\n",
    "    return out\n",
    "\n",
    "@njit(fastmath=True, error_model=\"numpy\", parallel=True)\n",
    "def gammaln_nb_int(z):\n",
    "    coefs = np.array(\n",
    "        [\n",
    "            57.1562356658629235,\n",
    "            -59.5979603554754912,\n",
    "            14.1360979747417471,\n",
    "            -0.491913816097620199,\n",
    "            0.339946499848118887e-4,\n",
    "            0.465236289270485756e-4,\n",
    "            -0.983744753048795646e-4,\n",
    "            0.158088703224912494e-3,\n",
    "            -0.210264441724104883e-3,\n",
    "            0.217439618115212643e-3,\n",
    "            -0.164318106536763890e-3,\n",
    "            0.844182239838527433e-4,\n",
    "            -0.261908384015814087e-4,\n",
    "            0.368991826595316234e-5,\n",
    "        ]\n",
    "    )\n",
    "     # outdim = 1\n",
    "    y = z\n",
    "    tmp = z + 5.24218750000000000\n",
    "    tmp = (z + 0.5) * np.log(tmp) - tmp\n",
    "    ser = 0.999999999999997092\n",
    "\n",
    "    n = coefs.shape[0]\n",
    "    for j in range(n):\n",
    "        y = y + 1.0\n",
    "        ser = ser + coefs[j] / y\n",
    "\n",
    "    out = tmp + np.log(2.5066282746310005 * ser / z)\n",
    "    return out\n",
    "\n",
    "print(np.exp(gammaln_nb_int(6)))\n",
    "\n",
    "@njit(cache=True)\n",
    "def _logpmf(k, mu):\n",
    "        # log lkl is k*log(mu)-log(k!)-mu\n",
    "        # can use that gamma(k)=(k-1)! for k +ve integer\n",
    "        # and approx for log(gamma(k)) below\n",
    "        Pk = k * np.log(mu) - gammaln_nb_int(k + 1) - mu\n",
    "        return Pk\n",
    "\n",
    "@njit(cache=True,debug=True)\n",
    "def nb_poisson_lkl(k, mu):\n",
    "    \"\"\"Calculate Poisson lkl of observing k given param mu\n",
    "\n",
    "    Args:\n",
    "        k (_type_): _description_\n",
    "        mu (_type_): _description_\n",
    "    \"\"\"\n",
    "    # p(k) = exp(-mu)*mu^k/k!\n",
    "    return np.exp(_logpmf(k, mu))\n",
    "\n",
    "print(_logpmf(5, 10))\n",
    "print(nb_poisson_lkl(5,10))\n",
    "\n",
    "@jitclass \n",
    "class Test:\n",
    "    pois_lkl: float \n",
    "    def __init__(self):\n",
    "        pois_lkl = 0.\n",
    "    def test_ib_lkl(self):\n",
    "        print(nb_ib_lkl(xs,ps)) \n",
    "    def test_pois_lkl(self):  \n",
    "        print(nb_poisson_lkl(5,10))\n",
    "\n",
    "test_inst = Test()  \n",
    "test_inst.test_ib_lkl()\n",
    "test_inst.test_pois_lkl()"
   ]
  },
  {
   "cell_type": "code",
   "execution_count": 45,
   "metadata": {},
   "outputs": [],
   "source": [
    "xs = np.random.randint(0,2,size=(5,))\n",
    "ps = np.random.rand(5)"
   ]
  },
  {
   "cell_type": "code",
   "execution_count": 52,
   "metadata": {},
   "outputs": [
    {
     "data": {
      "text/plain": [
       "True"
      ]
     },
     "execution_count": 52,
     "metadata": {},
     "output_type": "execute_result"
    }
   ],
   "source": [
    "test_psit = np.random.rand(10,4,5,5,2)\n",
    "test_psit /= np.expand_dims(test_psit.sum(axis=3),3)\n",
    "np.allclose(test_psit.sum(axis=3),1)"
   ]
  },
  {
   "cell_type": "code",
   "execution_count": 51,
   "metadata": {},
   "outputs": [],
   "source": [
    "assert np.all(ps-ps<1e-14)"
   ]
  },
  {
   "cell_type": "code",
   "execution_count": 47,
   "metadata": {},
   "outputs": [
    {
     "name": "stdout",
     "output_type": "stream",
     "text": [
      "[2 3 2 2 2]\n",
      "[1 2 1 1 1]\n"
     ]
    }
   ],
   "source": [
    "y = xs.copy()\n",
    "y += 1\n",
    "print(y) \n",
    "print(xs)"
   ]
  },
  {
   "cell_type": "code",
   "execution_count": 17,
   "metadata": {},
   "outputs": [
    {
     "name": "stdout",
     "output_type": "stream",
     "text": [
      "1.07 µs ± 53.9 ns per loop (mean ± std. dev. of 7 runs, 1,000,000 loops each)\n"
     ]
    }
   ],
   "source": [
    "%%timeit\n",
    "nb_ib_lkl(xs,ps)"
   ]
  },
  {
   "cell_type": "code",
   "execution_count": 10,
   "metadata": {},
   "outputs": [
    {
     "name": "stdout",
     "output_type": "stream",
     "text": [
      "17.4 µs ± 2.42 µs per loop (mean ± std. dev. of 7 runs, 10,000 loops each)\n"
     ]
    }
   ],
   "source": [
    "%%timeit\n",
    "np.prod(np.power(ps, xs)) * np.prod(np.power(1 - ps, 1 - xs))"
   ]
  },
  {
   "cell_type": "code",
   "execution_count": null,
   "metadata": {},
   "outputs": [],
   "source": []
  }
 ],
 "metadata": {
  "interpreter": {
   "hash": "d5c34d7b47ead285695163c52e692a1341346d297aa62a7d0d09c9a348795615"
  },
  "kernelspec": {
   "display_name": "Python 3.10.2 ('dsbmm')",
   "language": "python",
   "name": "python3"
  },
  "language_info": {
   "codemirror_mode": {
    "name": "ipython",
    "version": 3
   },
   "file_extension": ".py",
   "mimetype": "text/x-python",
   "name": "python",
   "nbconvert_exporter": "python",
   "pygments_lexer": "ipython3",
   "version": "3.9.0"
  },
  "orig_nbformat": 4
 },
 "nbformat": 4,
 "nbformat_minor": 2
}
